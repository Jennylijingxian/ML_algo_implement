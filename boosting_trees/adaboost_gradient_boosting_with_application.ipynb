{
 "cells": [
  {
   "cell_type": "markdown",
   "metadata": {
    "nbgrader": {
     "grade": false,
     "grade_id": "cell-cfc24d80c2cf2c24",
     "locked": true,
     "schema_version": 1,
     "solution": false
    }
   },
   "source": [
    "# Adaboost\n",
    "Implement AdaBoost from scratch with DecisionTreeClassifier from sklearn (default max_depth=1) as base learner and applied it to a spam dataset (classifying data into spam and not spam) \n",
    "\n",
    "Here is how you train a decision tree classifier with weights.\n",
    "`\n",
    "h = DecisionTreeClassifier(max_depth=max_depth, random_state=0)\n",
    "h.fit(X, Y, sample_weight=w)\n",
    "`"
   ]
  },
  {
   "cell_type": "code",
   "execution_count": 1,
   "metadata": {
    "nbgrader": {
     "grade": false,
     "grade_id": "cell-3478d607a536190b",
     "locked": true,
     "schema_version": 1,
     "solution": false
    }
   },
   "outputs": [],
   "source": [
    "import numpy as np\n",
    "import pandas as pd\n",
    "from sklearn.tree import DecisionTreeClassifier"
   ]
  },
  {
   "cell_type": "code",
   "execution_count": 2,
   "metadata": {
    "nbgrader": {
     "grade": false,
     "grade_id": "cell-c56cb727222d9503",
     "locked": true,
     "schema_version": 1,
     "solution": false
    }
   },
   "outputs": [],
   "source": [
    "# accuracy computation\n",
    "# this data is not highly imbalance so accuracy is ok\n",
    "def accuracy(y, pred):\n",
    "    return np.sum(y == pred) / float(len(y)) "
   ]
  },
  {
   "cell_type": "code",
   "execution_count": 3,
   "metadata": {
    "nbgrader": {
     "grade": false,
     "grade_id": "cell-1eaf818528c8d676",
     "locked": false,
     "schema_version": 1,
     "solution": true
    }
   },
   "outputs": [],
   "source": [
    "def parse_spambase_data(filename):\n",
    "    \"\"\" Given a filename return X and Y numpy arrays\n",
    "\n",
    "    X is of size number of rows x num_features\n",
    "    Y is an array of size the number of rows\n",
    "    Y is the last element of each row. (Convert 0 to -1)\n",
    "    \"\"\"\n",
    "    ### BEGIN SOLUTION\n",
    "    my_data = np.genfromtxt(filename, delimiter=',')\n",
    "    X = my_data[:,:-1].copy()\n",
    "    Y = my_data[:,-1].copy()\n",
    "    np.place(Y,Y == 0,-1)\n",
    "    ### END SOLUTION\n",
    "    return X, Y"
   ]
  },
  {
   "cell_type": "code",
   "execution_count": 4,
   "metadata": {
    "nbgrader": {
     "grade": true,
     "grade_id": "cell-73926460e1f70f54",
     "locked": true,
     "points": 1,
     "schema_version": 1,
     "solution": false
    }
   },
   "outputs": [],
   "source": [
    "y_test = np.array([1., -1., 1., 1., -1., -1., 1., 1., 1., -1.])\n",
    "X, Y = parse_spambase_data(\"tiny.spam.train\")\n",
    "for i in range(len(y_test)): assert(y_test[i] == Y[i])\n",
    "n, m = X.shape\n",
    "assert(n == 10)\n",
    "assert(m == 57)"
   ]
  },
  {
   "cell_type": "code",
   "execution_count": 7,
   "metadata": {
    "nbgrader": {
     "grade": false,
     "grade_id": "cell-befcece7be9c6839",
     "locked": false,
     "schema_version": 1,
     "solution": true
    }
   },
   "outputs": [],
   "source": [
    "def adaboost(X, y, num_iter, max_depth=1):\n",
    "    \"\"\"Given an numpy matrix X, a array y and num_iter return trees and weights\n",
    "\n",
    "    Input: X, y, num_iter\n",
    "    Outputs: array of trees from DecisionTreeClassifier\n",
    "             trees_weights array of floats\n",
    "    Assumes y is {-1, 1}\n",
    "    \"\"\"\n",
    "    trees = []\n",
    "    trees_weights = []\n",
    "    N, _ = X.shape\n",
    "    d = np.ones(N) / N\n",
    "\n",
    "    weights = np.array([1/N]*N)\n",
    "    for i in range(num_iter):\n",
    "        h = DecisionTreeClassifier(max_depth=max_depth, random_state=0)\n",
    "        h.fit(X, y, sample_weight = weights)\n",
    "        prediction = h.predict(X)\n",
    "        misclassified_index = np.argwhere(np.equal(prediction, y) == False).flatten()\n",
    "        misclassified_weights = np.sum(weights[misclassified_index])\n",
    "        total_weights = np.sum(weights)\n",
    "        err = misclassified_weights/total_weights\n",
    "        alpha = np.log((1-err)/(err+1e-5))\n",
    "        weights[misclassified_index] = weights[misclassified_index] * (1-err)/err\n",
    "        trees_weights.append(alpha)\n",
    "        trees.append(h)\n",
    "    return trees, trees_weights"
   ]
  },
  {
   "cell_type": "code",
   "execution_count": 8,
   "metadata": {
    "nbgrader": {
     "grade": true,
     "grade_id": "cell-4dc8edbf0e11fab8",
     "locked": true,
     "points": 1,
     "schema_version": 1,
     "solution": false
    }
   },
   "outputs": [],
   "source": [
    "X, Y = parse_spambase_data(\"tiny.spam.train\")\n",
    "trees, weights = adaboost(X, Y, 2)\n",
    "y_hat_0 = trees[0].predict(X)\n",
    "assert(len(trees) == 2)\n",
    "assert(len(weights) == 2)\n",
    "assert(isinstance(trees[0], DecisionTreeClassifier))\n",
    "assert(np.array_equal(y_hat_0[:5], [1.,-1.,1, 1, -1]))"
   ]
  },
  {
   "cell_type": "code",
   "execution_count": 9,
   "metadata": {
    "nbgrader": {
     "grade": false,
     "grade_id": "cell-50ad4a5c81e7c016",
     "locked": false,
     "schema_version": 1,
     "solution": true
    }
   },
   "outputs": [],
   "source": [
    "def adaboost_predict(X, trees, trees_weights):\n",
    "    \"\"\"Given X, trees and weights predict Y\n",
    "    \"\"\"\n",
    "    # X input, y output\n",
    "    N, _ =  X.shape\n",
    "    y = np.zeros(N)\n",
    "    for i,tree in enumerate(trees):\n",
    "        prediction = tree.predict(X)\n",
    "        y += trees_weights[i]*prediction\n",
    "    y = np.sign(y)\n",
    "    return y"
   ]
  },
  {
   "cell_type": "code",
   "execution_count": 10,
   "metadata": {
    "nbgrader": {
     "grade": true,
     "grade_id": "cell-7f28f00061f7b5a5",
     "locked": true,
     "points": 3,
     "schema_version": 1,
     "solution": false
    }
   },
   "outputs": [],
   "source": [
    "x = np.array([[0, -1], [1, 0], [-1, 0],[0,1]])\n",
    "y = np.array([-1, 1, 1,-1])\n",
    "trees, weights = adaboost(x, y, 4)\n",
    "pred = adaboost_predict(x, trees, weights)\n",
    "assert(np.array_equal(pred, y))"
   ]
  },
  {
   "cell_type": "code",
   "execution_count": 11,
   "metadata": {},
   "outputs": [],
   "source": [
    "x = np.array([[0, -1], [1, 0], [-1, 0]])\n",
    "y = np.array([-1, 1, 1])\n",
    "trees, weights = adaboost(x, y, 1)\n",
    "pred = adaboost_predict(x, trees, weights)\n",
    "assert(np.array_equal(pred, y))"
   ]
  },
  {
   "cell_type": "code",
   "execution_count": 12,
   "metadata": {
    "nbgrader": {
     "grade": true,
     "grade_id": "cell-89126a5a7f8f0e1b",
     "locked": true,
     "points": 3,
     "schema_version": 1,
     "solution": false
    }
   },
   "outputs": [],
   "source": [
    "X, Y = parse_spambase_data(\"spambase.train\")\n",
    "X_test, Y_test = parse_spambase_data(\"spambase.test\")\n",
    "trees, trees_weights = adaboost(X, Y, 10)\n",
    "Yhat = adaboost_predict(X, trees, trees_weights)\n",
    "Yhat_test = adaboost_predict(X_test, trees, trees_weights)\n",
    "acc_test = accuracy(Y_test, Yhat_test)\n",
    "acc_train = accuracy(Y, Yhat)\n",
    "assert(np.around(acc_train, decimals=4)==0.9111)\n",
    "assert(np.around(acc_test, decimals=4)==0.9190)"
   ]
  },
  {
   "cell_type": "markdown",
   "metadata": {},
   "source": [
    "# Gradient boosting for regression with MSE loss\n",
    "Implement a version of gradient boosting from scratch with DecisionTreeRegressor from sklearnand as base learner and applied it to predict rental prices.\n",
    " \n",
    "`tree = DecisionTreeRegressor(max_depth=max_depth, random_state=0)`"
   ]
  },
  {
   "cell_type": "markdown",
   "metadata": {},
   "source": [
    "## Implementation"
   ]
  },
  {
   "cell_type": "code",
   "execution_count": 13,
   "metadata": {},
   "outputs": [],
   "source": [
    "def load_dataset():\n",
    "    dataset = np.loadtxt(\"rent-ideal.csv\", delimiter=\",\", skiprows=1)\n",
    "    y = dataset[:, -1]\n",
    "    X = dataset[:, 0:- 1]\n",
    "    return X, y"
   ]
  },
  {
   "cell_type": "code",
   "execution_count": 14,
   "metadata": {
    "nbgrader": {
     "grade": false,
     "grade_id": "cell-158a37c458437dee",
     "locked": false,
     "schema_version": 1,
     "solution": true
    }
   },
   "outputs": [],
   "source": [
    "from sklearn.tree import DecisionTreeRegressor\n",
    "from sklearn.metrics import r2_score\n",
    "from sklearn.model_selection import train_test_split\n",
    "\n",
    "\n",
    "def gradient_boosting_mse(X, y, num_iter, max_depth=1, nu=0.1):\n",
    "    \"\"\"Given X, a array y and num_iter return y_mean and trees \n",
    "   \n",
    "    Input: X, y, num_iter\n",
    "           max_depth\n",
    "           nu (is the shinkage)\n",
    "    Outputs:y_mean, array of trees from DecisionTreeRegression\n",
    "    \"\"\"\n",
    "    trees = []\n",
    "    N, _ = X.shape\n",
    "    y_mean = np.mean(y)\n",
    "    fm = y_mean\n",
    "    for i in range(num_iter):\n",
    "        residue = y-fm\n",
    "        tree = DecisionTreeRegressor(max_depth=max_depth, random_state=0)\n",
    "        tree.fit(X,residue)\n",
    "        prediction = tree.predict(X)\n",
    "        fm = fm + nu*prediction\n",
    "        trees.append(tree)\n",
    "    return y_mean, trees   "
   ]
  },
  {
   "cell_type": "code",
   "execution_count": 15,
   "metadata": {
    "nbgrader": {
     "grade": false,
     "grade_id": "cell-8ff3f16fc953ead4",
     "locked": false,
     "schema_version": 1,
     "solution": true
    }
   },
   "outputs": [],
   "source": [
    "def gradient_boosting_predict(X, trees, y_mean,  nu=0.1):\n",
    "    \"\"\"Given X, trees, y_mean predict y_hat\n",
    "    \"\"\"\n",
    "    y_hat = [y_mean]*X.shape[0]\n",
    "    for i,tree in enumerate(trees):\n",
    "        y_hat += nu*tree.predict(X)\n",
    "    return y_hat"
   ]
  },
  {
   "cell_type": "code",
   "execution_count": 16,
   "metadata": {},
   "outputs": [],
   "source": [
    "X, y = load_dataset()\n",
    "X_train, X_val, y_train, y_val = train_test_split(X, y, test_size=0.33, random_state=3)"
   ]
  },
  {
   "cell_type": "code",
   "execution_count": 17,
   "metadata": {
    "nbgrader": {
     "grade": true,
     "grade_id": "cell-f6f368de93b63c1c",
     "locked": true,
     "points": 2,
     "schema_version": 1,
     "solution": false
    },
    "scrolled": false
   },
   "outputs": [],
   "source": [
    "y_mean, trees = gradient_boosting_mse(X_train, y_train, 300, max_depth=7, nu=0.1)\n",
    "assert(np.around(y_mean, decimals=4)==3434.7185)\n",
    "y_hat_train = gradient_boosting_predict(X_train, trees, y_mean, nu=0.1)\n",
    "assert(np.around(r2_score(y_train, y_hat_train), decimals=4)== 0.8993) "
   ]
  },
  {
   "cell_type": "code",
   "execution_count": 18,
   "metadata": {
    "nbgrader": {
     "grade": true,
     "grade_id": "cell-62746a63ebdd7798",
     "locked": true,
     "points": 3,
     "schema_version": 1,
     "solution": false
    }
   },
   "outputs": [],
   "source": [
    "y_hat = gradient_boosting_predict(X_val, trees, y_mean, nu=0.1)\n",
    "assert(np.around(r2_score(y_val, y_hat), decimals=4)== 0.8399)"
   ]
  },
  {
   "cell_type": "markdown",
   "metadata": {},
   "source": [
    "## Change number of trees and see train test R squre"
   ]
  },
  {
   "cell_type": "code",
   "execution_count": 112,
   "metadata": {},
   "outputs": [],
   "source": [
    "def compare_numn_trees(X_train, y_train, X_val, y_val, num_trees):\n",
    "    y_mean, trees = gradient_boosting_mse(\n",
    "        X_train, y_train, num_trees, max_depth=7, nu=0.1)\n",
    "    y_hat_train = gradient_boosting_predict(X_train, trees, y_mean, nu=0.1)\n",
    "    y_hat_test = gradient_boosting_predict(X_val, trees, y_mean, nu=0.1)\n",
    "    r2_train = r2_score(y_train, y_hat_train)\n",
    "    r2_test = r2_score(y_val, y_hat_test)\n",
    "    r2_train_ls.append(r2_train)\n",
    "    r2_test_ls.append(r2_test)"
   ]
  },
  {
   "cell_type": "code",
   "execution_count": 113,
   "metadata": {},
   "outputs": [],
   "source": [
    "r2_train_ls = []\n",
    "r2_test_ls = []\n",
    "tree_num_options = [300, 400, 500, 600, 700,\n",
    "                    800, 900, 1000, 1100, 1200,\n",
    "                    1300, 1400, 1500, 1600, 1700, 1800,\n",
    "                    1900, 2000, 2100, 2200, 2300, 2400, \n",
    "                    2500, 2600, 2700, 2800, 2900, 3000]\n",
    "for i in tree_num_options:\n",
    "    compare_numn_trees(X_train, y_train, X_val, y_val, i)"
   ]
  },
  {
   "cell_type": "code",
   "execution_count": 114,
   "metadata": {},
   "outputs": [],
   "source": [
    "df = pd.DataFrame({'num_trees':tree_num_options,\n",
    "                   'r2_train':r2_train_ls,\n",
    "                   'r2_test':r2_test_ls})"
   ]
  },
  {
   "cell_type": "code",
   "execution_count": 115,
   "metadata": {},
   "outputs": [
    {
     "data": {
      "text/html": [
       "<div>\n",
       "<style scoped>\n",
       "    .dataframe tbody tr th:only-of-type {\n",
       "        vertical-align: middle;\n",
       "    }\n",
       "\n",
       "    .dataframe tbody tr th {\n",
       "        vertical-align: top;\n",
       "    }\n",
       "\n",
       "    .dataframe thead th {\n",
       "        text-align: right;\n",
       "    }\n",
       "</style>\n",
       "<table border=\"1\" class=\"dataframe\">\n",
       "  <thead>\n",
       "    <tr style=\"text-align: right;\">\n",
       "      <th></th>\n",
       "      <th>num_trees</th>\n",
       "      <th>r2_train</th>\n",
       "      <th>r2_test</th>\n",
       "    </tr>\n",
       "  </thead>\n",
       "  <tbody>\n",
       "    <tr>\n",
       "      <th>0</th>\n",
       "      <td>300</td>\n",
       "      <td>0.899262</td>\n",
       "      <td>0.839911</td>\n",
       "    </tr>\n",
       "    <tr>\n",
       "      <th>1</th>\n",
       "      <td>400</td>\n",
       "      <td>0.911166</td>\n",
       "      <td>0.846257</td>\n",
       "    </tr>\n",
       "    <tr>\n",
       "      <th>2</th>\n",
       "      <td>500</td>\n",
       "      <td>0.921050</td>\n",
       "      <td>0.851105</td>\n",
       "    </tr>\n",
       "    <tr>\n",
       "      <th>3</th>\n",
       "      <td>600</td>\n",
       "      <td>0.928792</td>\n",
       "      <td>0.854736</td>\n",
       "    </tr>\n",
       "    <tr>\n",
       "      <th>4</th>\n",
       "      <td>700</td>\n",
       "      <td>0.933990</td>\n",
       "      <td>0.857212</td>\n",
       "    </tr>\n",
       "    <tr>\n",
       "      <th>5</th>\n",
       "      <td>800</td>\n",
       "      <td>0.938413</td>\n",
       "      <td>0.858582</td>\n",
       "    </tr>\n",
       "    <tr>\n",
       "      <th>6</th>\n",
       "      <td>900</td>\n",
       "      <td>0.941411</td>\n",
       "      <td>0.859637</td>\n",
       "    </tr>\n",
       "    <tr>\n",
       "      <th>7</th>\n",
       "      <td>1000</td>\n",
       "      <td>0.943810</td>\n",
       "      <td>0.860159</td>\n",
       "    </tr>\n",
       "    <tr>\n",
       "      <th>8</th>\n",
       "      <td>1100</td>\n",
       "      <td>0.945873</td>\n",
       "      <td>0.860575</td>\n",
       "    </tr>\n",
       "    <tr>\n",
       "      <th>9</th>\n",
       "      <td>1200</td>\n",
       "      <td>0.947829</td>\n",
       "      <td>0.860937</td>\n",
       "    </tr>\n",
       "    <tr>\n",
       "      <th>10</th>\n",
       "      <td>1300</td>\n",
       "      <td>0.949144</td>\n",
       "      <td>0.861236</td>\n",
       "    </tr>\n",
       "    <tr>\n",
       "      <th>11</th>\n",
       "      <td>1400</td>\n",
       "      <td>0.950359</td>\n",
       "      <td>0.861371</td>\n",
       "    </tr>\n",
       "    <tr>\n",
       "      <th>12</th>\n",
       "      <td>1500</td>\n",
       "      <td>0.951588</td>\n",
       "      <td>0.861535</td>\n",
       "    </tr>\n",
       "    <tr>\n",
       "      <th>13</th>\n",
       "      <td>1600</td>\n",
       "      <td>0.952594</td>\n",
       "      <td>0.861577</td>\n",
       "    </tr>\n",
       "    <tr>\n",
       "      <th>14</th>\n",
       "      <td>1700</td>\n",
       "      <td>0.953409</td>\n",
       "      <td>0.861691</td>\n",
       "    </tr>\n",
       "    <tr>\n",
       "      <th>15</th>\n",
       "      <td>1800</td>\n",
       "      <td>0.954019</td>\n",
       "      <td>0.861747</td>\n",
       "    </tr>\n",
       "    <tr>\n",
       "      <th>16</th>\n",
       "      <td>1900</td>\n",
       "      <td>0.954578</td>\n",
       "      <td>0.861731</td>\n",
       "    </tr>\n",
       "    <tr>\n",
       "      <th>17</th>\n",
       "      <td>2000</td>\n",
       "      <td>0.955161</td>\n",
       "      <td>0.861791</td>\n",
       "    </tr>\n",
       "    <tr>\n",
       "      <th>18</th>\n",
       "      <td>2100</td>\n",
       "      <td>0.955522</td>\n",
       "      <td>0.861694</td>\n",
       "    </tr>\n",
       "    <tr>\n",
       "      <th>19</th>\n",
       "      <td>2200</td>\n",
       "      <td>0.955968</td>\n",
       "      <td>0.861637</td>\n",
       "    </tr>\n",
       "    <tr>\n",
       "      <th>20</th>\n",
       "      <td>2300</td>\n",
       "      <td>0.956280</td>\n",
       "      <td>0.861613</td>\n",
       "    </tr>\n",
       "    <tr>\n",
       "      <th>21</th>\n",
       "      <td>2400</td>\n",
       "      <td>0.956638</td>\n",
       "      <td>0.861593</td>\n",
       "    </tr>\n",
       "    <tr>\n",
       "      <th>22</th>\n",
       "      <td>2500</td>\n",
       "      <td>0.956931</td>\n",
       "      <td>0.861448</td>\n",
       "    </tr>\n",
       "    <tr>\n",
       "      <th>23</th>\n",
       "      <td>2600</td>\n",
       "      <td>0.957163</td>\n",
       "      <td>0.861270</td>\n",
       "    </tr>\n",
       "    <tr>\n",
       "      <th>24</th>\n",
       "      <td>2700</td>\n",
       "      <td>0.957403</td>\n",
       "      <td>0.861192</td>\n",
       "    </tr>\n",
       "    <tr>\n",
       "      <th>25</th>\n",
       "      <td>2800</td>\n",
       "      <td>0.957593</td>\n",
       "      <td>0.861067</td>\n",
       "    </tr>\n",
       "    <tr>\n",
       "      <th>26</th>\n",
       "      <td>2900</td>\n",
       "      <td>0.957759</td>\n",
       "      <td>0.860990</td>\n",
       "    </tr>\n",
       "    <tr>\n",
       "      <th>27</th>\n",
       "      <td>3000</td>\n",
       "      <td>0.957925</td>\n",
       "      <td>0.860865</td>\n",
       "    </tr>\n",
       "  </tbody>\n",
       "</table>\n",
       "</div>"
      ],
      "text/plain": [
       "    num_trees  r2_train   r2_test\n",
       "0         300  0.899262  0.839911\n",
       "1         400  0.911166  0.846257\n",
       "2         500  0.921050  0.851105\n",
       "3         600  0.928792  0.854736\n",
       "4         700  0.933990  0.857212\n",
       "5         800  0.938413  0.858582\n",
       "6         900  0.941411  0.859637\n",
       "7        1000  0.943810  0.860159\n",
       "8        1100  0.945873  0.860575\n",
       "9        1200  0.947829  0.860937\n",
       "10       1300  0.949144  0.861236\n",
       "11       1400  0.950359  0.861371\n",
       "12       1500  0.951588  0.861535\n",
       "13       1600  0.952594  0.861577\n",
       "14       1700  0.953409  0.861691\n",
       "15       1800  0.954019  0.861747\n",
       "16       1900  0.954578  0.861731\n",
       "17       2000  0.955161  0.861791\n",
       "18       2100  0.955522  0.861694\n",
       "19       2200  0.955968  0.861637\n",
       "20       2300  0.956280  0.861613\n",
       "21       2400  0.956638  0.861593\n",
       "22       2500  0.956931  0.861448\n",
       "23       2600  0.957163  0.861270\n",
       "24       2700  0.957403  0.861192\n",
       "25       2800  0.957593  0.861067\n",
       "26       2900  0.957759  0.860990\n",
       "27       3000  0.957925  0.860865"
      ]
     },
     "execution_count": 115,
     "metadata": {},
     "output_type": "execute_result"
    }
   ],
   "source": [
    "df"
   ]
  },
  {
   "cell_type": "code",
   "execution_count": 117,
   "metadata": {},
   "outputs": [
    {
     "data": {
      "image/png": "[encoded data removed]",
      "text/plain": [
       "<Figure size 720x720 with 1 Axes>"
      ]
     },
     "metadata": {
      "needs_background": "light"
     },
     "output_type": "display_data"
    }
   ],
   "source": [
    "import matplotlib.pyplot as plt\n",
    "import matplotlib\n",
    "matplotlib.rc('figure', figsize=(10, 10))\n",
    "plt.plot('num_trees', 'r2_train', data=df, marker='', color = 'lightskyblue',linewidth=3)\n",
    "plt.plot('num_trees', 'r2_test', data=df, marker='', color = 'steelblue',linewidth=3)\n",
    "plt.legend()\n",
    "plt.show()"
   ]
  },
  {
   "cell_type": "markdown",
   "metadata": {},
   "source": [
    "- I find best value for numTrees by looking at trainning and validation R square, it seems that after 1500, there's no signicifcant improve with numTrees increase. \n",
    "- R square of training is 0.955161 and test 0.861791 at numTrees = 2000."
   ]
  },
  {
   "cell_type": "markdown",
   "metadata": {},
   "source": [
    "## Compare with XGB"
   ]
  },
  {
   "cell_type": "markdown",
   "metadata": {},
   "source": [
    "### Default model"
   ]
  },
  {
   "cell_type": "code",
   "execution_count": 122,
   "metadata": {},
   "outputs": [],
   "source": [
    "from xgboost import XGBRegressor"
   ]
  },
  {
   "cell_type": "code",
   "execution_count": 124,
   "metadata": {},
   "outputs": [
    {
     "name": "stdout",
     "output_type": "stream",
     "text": [
      "[15:28:12] WARNING: src/objective/regression_obj.cu:152: reg:linear is now deprecated in favor of reg:squarederror.\n"
     ]
    },
    {
     "data": {
      "text/plain": [
       "XGBRegressor(base_score=0.5, booster='gbtree', colsample_bylevel=1,\n",
       "             colsample_bynode=1, colsample_bytree=1, gamma=0,\n",
       "             importance_type='gain', learning_rate=0.1, max_delta_step=0,\n",
       "             max_depth=3, min_child_weight=1, missing=None, n_estimators=100,\n",
       "             n_jobs=1, nthread=None, objective='reg:linear', random_state=0,\n",
       "             reg_alpha=0, reg_lambda=1, scale_pos_weight=1, seed=None,\n",
       "             silent=None, subsample=1, verbosity=1)"
      ]
     },
     "execution_count": 124,
     "metadata": {},
     "output_type": "execute_result"
    }
   ],
   "source": [
    "model = XGBRegressor()\n",
    "model.fit(X_train, y_train)"
   ]
  },
  {
   "cell_type": "code",
   "execution_count": 131,
   "metadata": {},
   "outputs": [
    {
     "name": "stdout",
     "output_type": "stream",
     "text": [
      "R square for XGB model: train: 0.7237, test: 0.7160\n"
     ]
    }
   ],
   "source": [
    "y_pred_train_default = model.predict(X_train)\n",
    "r2_xgb_default_train = r2_score(y_train, y_pred_train_default)\n",
    "y_pred_test_default = model.predict(X_val)\n",
    "r2_xgb_default_test = r2_score(y_val, y_pred_test_default)\n",
    "print(\"R square for XGB model: train: %.4f, test: %.4f\" %\n",
    "      (r2_xgb_default_train, r2_xgb_default_test))"
   ]
  },
  {
   "cell_type": "markdown",
   "metadata": {},
   "source": [
    "### max_depth = 7,n_estimators = 800"
   ]
  },
  {
   "cell_type": "code",
   "execution_count": 127,
   "metadata": {},
   "outputs": [
    {
     "name": "stdout",
     "output_type": "stream",
     "text": [
      "[15:31:26] WARNING: src/objective/regression_obj.cu:152: reg:linear is now deprecated in favor of reg:squarederror.\n"
     ]
    },
    {
     "data": {
      "text/plain": [
       "XGBRegressor(base_score=0.5, booster='gbtree', colsample_bylevel=1,\n",
       "             colsample_bynode=1, colsample_bytree=1, gamma=0,\n",
       "             importance_type='gain', learning_rate=0.1, max_delta_step=0,\n",
       "             max_depth=7, min_child_weight=1, missing=None, n_estimators=800,\n",
       "             n_jobs=1, nthread=None, objective='reg:linear', random_state=0,\n",
       "             reg_alpha=0, reg_lambda=1, scale_pos_weight=1, seed=None,\n",
       "             silent=None, subsample=1, verbosity=1)"
      ]
     },
     "execution_count": 127,
     "metadata": {},
     "output_type": "execute_result"
    }
   ],
   "source": [
    "model_1 = XGBRegressor(max_depth = 7,n_estimators = 800)\n",
    "model_1.fit(X_train, y_train)"
   ]
  },
  {
   "cell_type": "code",
   "execution_count": 135,
   "metadata": {},
   "outputs": [
    {
     "name": "stdout",
     "output_type": "stream",
     "text": [
      "R square for XGB model(max_depth = 7,n_estimators = 800): train: 0.9300, test: 0.8566\n"
     ]
    }
   ],
   "source": [
    "y_pred_train1 = model_1.predict(X_train)\n",
    "r2_xgb_train1 = r2_score(y_train, y_pred_train1)\n",
    "y_pred_test1 = model_1.predict(X_val)\n",
    "r2_xgb_test1 = r2_score(y_val, y_pred_test1)\n",
    "print(\"R square for XGB model(max_depth = 7,n_estimators = 800): train: %.4f, test: %.4f\" %\n",
    "      (r2_xgb_train1, r2_xgb_test1))"
   ]
  },
  {
   "cell_type": "markdown",
   "metadata": {},
   "source": [
    "### max_depth = 7,n_estimators =2000"
   ]
  },
  {
   "cell_type": "code",
   "execution_count": 137,
   "metadata": {},
   "outputs": [
    {
     "name": "stdout",
     "output_type": "stream",
     "text": [
      "[15:39:44] WARNING: src/objective/regression_obj.cu:152: reg:linear is now deprecated in favor of reg:squarederror.\n"
     ]
    },
    {
     "data": {
      "text/plain": [
       "XGBRegressor(base_score=0.5, booster='gbtree', colsample_bylevel=1,\n",
       "             colsample_bynode=1, colsample_bytree=1, gamma=0,\n",
       "             importance_type='gain', learning_rate=0.1, max_delta_step=0,\n",
       "             max_depth=7, min_child_weight=1, missing=None, n_estimators=2000,\n",
       "             n_jobs=1, nthread=None, objective='reg:linear', random_state=0,\n",
       "             reg_alpha=0, reg_lambda=1, scale_pos_weight=1, seed=None,\n",
       "             silent=None, subsample=1, verbosity=1)"
      ]
     },
     "execution_count": 137,
     "metadata": {},
     "output_type": "execute_result"
    }
   ],
   "source": [
    "model_2 = XGBRegressor(max_depth = 7,n_estimators = 2000)\n",
    "model_2.fit(X_train, y_train)"
   ]
  },
  {
   "cell_type": "code",
   "execution_count": 138,
   "metadata": {},
   "outputs": [
    {
     "name": "stdout",
     "output_type": "stream",
     "text": [
      "R square for XGB model(max_depth = 7,n_estimators = 2000): train: 0.9512, test: 0.8628\n"
     ]
    }
   ],
   "source": [
    "y_pred_train2 = model_2.predict(X_train)\n",
    "r2_xgb_train2 = r2_score(y_train, y_pred_train2)\n",
    "y_pred_test2 = model_2.predict(X_val)\n",
    "r2_xgb_test2 = r2_score(y_val, y_pred_test2)\n",
    "print(\"R square for XGB model(max_depth = 7,n_estimators = 2000): train: %.4f, test: %.4f\" %\n",
    "      (r2_xgb_train2, r2_xgb_test2))"
   ]
  },
  {
   "cell_type": "markdown",
   "metadata": {},
   "source": [
    "### max_depth = 15, n_estimators =2000"
   ]
  },
  {
   "cell_type": "code",
   "execution_count": 157,
   "metadata": {},
   "outputs": [
    {
     "name": "stdout",
     "output_type": "stream",
     "text": [
      "[16:04:15] WARNING: src/objective/regression_obj.cu:152: reg:linear is now deprecated in favor of reg:squarederror.\n"
     ]
    },
    {
     "data": {
      "text/plain": [
       "XGBRegressor(base_score=0.5, booster='gbtree', colsample_bylevel=1,\n",
       "             colsample_bynode=1, colsample_bytree=1, gamma=0,\n",
       "             importance_type='gain', learning_rate=0.1, max_delta_step=0,\n",
       "             max_depth=15, min_child_weight=1, missing=None, n_estimators=2000,\n",
       "             n_jobs=1, nthread=None, objective='reg:linear', random_state=0,\n",
       "             reg_alpha=0, reg_lambda=1, scale_pos_weight=1, seed=None,\n",
       "             silent=None, subsample=1, verbosity=1)"
      ]
     },
     "execution_count": 157,
     "metadata": {},
     "output_type": "execute_result"
    }
   ],
   "source": [
    "model_5 = XGBRegressor(max_depth = 15,n_estimators = 2000)\n",
    "model_5.fit(X_train, y_train)"
   ]
  },
  {
   "cell_type": "code",
   "execution_count": 158,
   "metadata": {},
   "outputs": [
    {
     "name": "stdout",
     "output_type": "stream",
     "text": [
      "R square for XGB model(max_depth = 7,n_estimators = 2000): train: 0.9594, test: 0.8582\n"
     ]
    }
   ],
   "source": [
    "y_pred_train5 = model_5.predict(X_train)\n",
    "r2_xgb_train5 = r2_score(y_train, y_pred_train5)\n",
    "y_pred_test5 = model_5.predict(X_val)\n",
    "r2_xgb_test5 = r2_score(y_val, y_pred_test5)\n",
    "print(\"R square for XGB model(max_depth = 7,n_estimators = 2000): train: %.4f, test: %.4f\" %\n",
    "      (r2_xgb_train5, r2_xgb_test5))"
   ]
  },
  {
   "cell_type": "markdown",
   "metadata": {},
   "source": [
    "### max_depth = 7,n_estimators =3000"
   ]
  },
  {
   "cell_type": "code",
   "execution_count": 147,
   "metadata": {},
   "outputs": [
    {
     "name": "stdout",
     "output_type": "stream",
     "text": [
      "[15:50:48] WARNING: src/objective/regression_obj.cu:152: reg:linear is now deprecated in favor of reg:squarederror.\n"
     ]
    },
    {
     "data": {
      "text/plain": [
       "XGBRegressor(base_score=0.5, booster='gbtree', colsample_bylevel=1,\n",
       "             colsample_bynode=1, colsample_bytree=1, gamma=0,\n",
       "             importance_type='gain', learning_rate=0.1, max_delta_step=0,\n",
       "             max_depth=7, min_child_weight=1, missing=None, n_estimators=3000,\n",
       "             n_jobs=1, nthread=None, objective='reg:linear', random_state=0,\n",
       "             reg_alpha=0, reg_lambda=1, scale_pos_weight=1, seed=None,\n",
       "             silent=None, subsample=1, verbosity=1)"
      ]
     },
     "execution_count": 147,
     "metadata": {},
     "output_type": "execute_result"
    }
   ],
   "source": [
    "model_3 = XGBRegressor(max_depth = 7,n_estimators = 3000)\n",
    "model_3.fit(X_train, y_train)"
   ]
  },
  {
   "cell_type": "code",
   "execution_count": 154,
   "metadata": {},
   "outputs": [
    {
     "name": "stdout",
     "output_type": "stream",
     "text": [
      "R square for XGB model(max_depth = 7,n_estimators = 3000): train: 0.9558, test: 0.8622\n"
     ]
    }
   ],
   "source": [
    "y_pred_train3 = model_3.predict(X_train)\n",
    "r2_xgb_train3 = r2_score(y_train, y_pred_train3)\n",
    "y_pred_test3 = model_3.predict(X_val)\n",
    "r2_xgb_test3 = r2_score(y_val, y_pred_test3)\n",
    "print(\"R square for XGB model(max_depth = 7,n_estimators = 3000): train: %.4f, test: %.4f\" %\n",
    "      (r2_xgb_train3, r2_xgb_test3))"
   ]
  },
  {
   "cell_type": "markdown",
   "metadata": {},
   "source": [
    "### max_depth = 15,n_estimators =3000"
   ]
  },
  {
   "cell_type": "code",
   "execution_count": 152,
   "metadata": {},
   "outputs": [
    {
     "name": "stdout",
     "output_type": "stream",
     "text": [
      "[15:56:40] WARNING: src/objective/regression_obj.cu:152: reg:linear is now deprecated in favor of reg:squarederror.\n"
     ]
    },
    {
     "data": {
      "text/plain": [
       "XGBRegressor(base_score=0.5, booster='gbtree', colsample_bylevel=1,\n",
       "             colsample_bynode=1, colsample_bytree=1, gamma=0,\n",
       "             importance_type='gain', learning_rate=0.1, max_delta_step=0,\n",
       "             max_depth=15, min_child_weight=1, missing=None, n_estimators=3000,\n",
       "             n_jobs=1, nthread=None, objective='reg:linear', random_state=0,\n",
       "             reg_alpha=0, reg_lambda=1, scale_pos_weight=1, seed=None,\n",
       "             silent=None, subsample=1, verbosity=1)"
      ]
     },
     "execution_count": 152,
     "metadata": {},
     "output_type": "execute_result"
    }
   ],
   "source": [
    "model_4 = XGBRegressor(max_depth = 15,n_estimators = 3000)\n",
    "model_4.fit(X_train, y_train)"
   ]
  },
  {
   "cell_type": "code",
   "execution_count": 153,
   "metadata": {},
   "outputs": [
    {
     "name": "stdout",
     "output_type": "stream",
     "text": [
      "R square for XGB model(max_depth = 7,n_estimators = 2000): train: 0.9594, test: 0.8582\n"
     ]
    }
   ],
   "source": [
    "y_pred_train4 = model_4.predict(X_train)\n",
    "r2_xgb_train4 = r2_score(y_train, y_pred_train4)\n",
    "y_pred_test4 = model_4.predict(X_val)\n",
    "r2_xgb_test4 = r2_score(y_val, y_pred_test4)\n",
    "print(\"R square for XGB model(max_depth = 7,n_estimators = 3000): train: %.4f, test: %.4f\" %\n",
    "      (r2_xgb_train4, r2_xgb_test4))"
   ]
  },
  {
   "cell_type": "code",
   "execution_count": 163,
   "metadata": {},
   "outputs": [
    {
     "data": {
      "image/png": "[encoded data removed]",
      "text/plain": [
       "<Figure size 720x720 with 1 Axes>"
      ]
     },
     "metadata": {
      "needs_background": "light"
     },
     "output_type": "display_data"
    }
   ],
   "source": [
    "matplotlib.rc('figure', figsize=(10, 10))\n",
    "plt.plot('num_trees', 'r2_train', data=df, marker='', color = 'lightskyblue',linewidth=3)\n",
    "plt.plot('num_trees', 'r2_test', data=df, marker='', color = 'steelblue',linewidth=3)\n",
    "# max_depth = 7,n_estimators = 800\n",
    "plt.plot(800, 0.9300, marker = 'o')\n",
    "plt.plot(800, 0.8566, marker = 'o')\n",
    "# max_depth = 7,n_estimators =2000\n",
    "plt.plot(2000, 0.9512, marker = 'o')\n",
    "plt.plot(2000, 0.8628, marker = 'o')\n",
    "# max_depth = 15, n_estimators =2000\n",
    "plt.plot(2000, 0.9594, marker = 'o')\n",
    "plt.plot(2000, 0.8582, marker = 'o')\n",
    "# max_depth = 7, n_estimators =3000\n",
    "plt.plot(3000, 0.9558, marker = 'o')\n",
    "plt.plot(3000, 0.8622, marker = 'o')\n",
    "# max_depth = 15, n_estimators =3000\n",
    "plt.plot(3000, 0.9594, marker = 'o')\n",
    "plt.plot(3000, 0.8582, marker = 'o')\n",
    "plt.legend()\n",
    "plt.show()"
   ]
  },
  {
   "cell_type": "markdown",
   "metadata": {},
   "source": [
    "- Explanation for the plot:\n",
    "    - The point near line means result for XGB, training and test respectively.\n",
    "    - Starting from n = 2000, the lower point means same setting with parameter used in Adaboost(maxdepth, num_trees), the upper point increase tree depth from 7 to 15.\n",
    "- Conclusion:\n",
    "    - Under same setting, Adaboost and XGB will generate similar results(Adaboost slightly better).\n",
    "    - It is the same for Adaboost and XGB that their R square increase when tree numbers increase, but the maginal increase gradually gets to zero when number of trees bigger than 1000.\n",
    "    - Increase tree numbers, max depth will help XGB get better result."
   ]
  }
 ],
 "metadata": {
  "celltoolbar": "Create Assignment",
  "kernelspec": {
   "display_name": "Python 3",
   "language": "python",
   "name": "python3"
  },
  "language_info": {
   "codemirror_mode": {
    "name": "ipython",
    "version": 3
   },
   "file_extension": ".py",
   "mimetype": "text/x-python",
   "name": "python",
   "nbconvert_exporter": "python",
   "pygments_lexer": "ipython3",
   "version": "3.7.6"
  },
  "toc": {
   "base_numbering": 1,
   "nav_menu": {},
   "number_sections": true,
   "sideBar": true,
   "skip_h1_title": false,
   "title_cell": "Table of Contents",
   "title_sidebar": "Contents",
   "toc_cell": false,
   "toc_position": {},
   "toc_section_display": "block",
   "toc_window_display": false
  },
  "varInspector": {
   "cols": {
    "lenName": 16,
    "lenType": 16,
    "lenVar": 40
   },
   "kernels_config": {
    "python": {
     "delete_cmd_postfix": "",
     "delete_cmd_prefix": "del ",
     "library": "var_list.py",
     "varRefreshCmd": "print(var_dic_list())"
    },
    "r": {
     "delete_cmd_postfix": ") ",
     "delete_cmd_prefix": "rm(",
     "library": "var_list.r",
     "varRefreshCmd": "cat(var_dic_list()) "
    }
   },
   "types_to_exclude": [
    "module",
    "function",
    "builtin_function_or_method",
    "instance",
    "_Feature"
   ],
   "window_display": false
  }
 },
 "nbformat": 4,
 "nbformat_minor": 2
}
